{
 "cells": [
  {
   "cell_type": "markdown",
   "metadata": {},
   "source": [
    "# Extract changed chunks\n",
    "\n",
    "With this script, the IDs (or chunk coordinates) of changed chunks from a Minecraft change trace can be extracted."
   ]
  },
  {
   "cell_type": "code",
   "execution_count": 1,
   "metadata": {},
   "outputs": [],
   "source": [
    "import csv\n",
    "import sys\n",
    "import pandas as pd"
   ]
  },
  {
   "cell_type": "markdown",
   "metadata": {},
   "source": [
    "Please specify the changelog file as filename in the Python-Code below:"
   ]
  },
  {
   "cell_type": "code",
   "execution_count": 5,
   "metadata": {},
   "outputs": [],
   "source": [
    "inputfilename = \"changelog-distributed-players.csv\"\n",
    "outputfilename = \"ChunkChanges-distributed.csv\""
   ]
  },
  {
   "cell_type": "markdown",
   "metadata": {},
   "source": [
    "The following code parses the changelog file and stores the changed chunks of every tick in a Map, where TickNo -> list(chunkId)"
   ]
  },
  {
   "cell_type": "code",
   "execution_count": 6,
   "metadata": {},
   "outputs": [],
   "source": [
    "with open(inputfilename, 'r') as f:\n",
    "    # skip header (three lines in this file)\n",
    "    # 20-10-2018_19:34:40:724\ttime\ttype=\"block\"\txpos\typos\tzpos\tworld\tchunk\tsection\tmaterial\tskylight\temittedLight\tBlockData\n",
    "    # 20-10-2018_19:34:40:724\ttime\ttype=\"entity\"\txpos\typos\tzpos\tworld\tchunk\tsection\tuuid\t[changed attributes]\n",
    "    # 20-10-2018_19:34:40:724\ttime\ttype=\"status\"\t#loadedChunks\t#changedChunks\t#tileEntities\t#changedTileEntities\t#entities\t#changedEntities\t#onlinePlayers\ttotalStateDiffTime\n",
    "    headerlen = 3\n",
    "    for i in range(0,headerlen): # skip over the above mentioned three header lines\n",
    "        next(f)\n",
    "\n",
    "    status_line_count = 0 # running counter as to measure interval length (splitting up lines)\n",
    "    # number of status messages (processed state diffs) / number of combined intervals\n",
    "    interval_size = 2 # 1 * 0.5s -> half second intervals, 2 * 0.5s -> one second intervals (lines of two intervals \"merged\"/processed as one unit)\n",
    "    world_filter=[]\n",
    "\n",
    "    # consecutive intervals (packages of lines/change-entries) are pushed to these sinks\n",
    "    #data_sinks = [IntervalStatPrinter(INTERVAL_LENGTH_SECONDS * interval_size), ChangeTypeTotalsPlot(), ChangesPerTypePlot(), EntityAddRemovePlot(),\n",
    "    #              StatusInformationPlot()]\n",
    "    #data_sinks = [InterIntervalTimeChanges(TICKS_PER_SECOND), ChangeTypeTotalsPlot(TICKS_PER_SECOND), StatisticChangesPerType(TICKS_PER_SECOND)]\n",
    "    #data_sinks = [PlotChunkChanges(), InterIntervalTimeChanges(TICKS_PER_SECOND), IntervalStatPrinter(INTERVAL_LENGTH_SECONDS * interval_size), ChangeTypeTotalsPlot(TICKS_PER_SECOND), StatusInformationPlot()]\n",
    "    #data_sinks = [InterIntervalTimeChanges(TICKS_PER_SECOND), IntervalStatPrinter(INTERVAL_LENGTH_SECONDS * interval_size), ChangeTypeTotalsPlot(TICKS_PER_SECOND), StatusInformationPlot()]\n",
    "\n",
    "    intervalQueue = {}\n",
    "    intervalKeys = []\n",
    "\n",
    "    reader = csv.reader(f, delimiter=\"\\t\") # sequentially read all lines in the CSV file\n",
    "    for row in reader:\n",
    "        if row[2] == \"status\":\n",
    "            continue\n",
    "        worldTimeTick = int(row[1])\n",
    "        world = row[6]\n",
    "        \n",
    "        if worldTimeTick not in intervalQueue:\n",
    "            intervalQueue[worldTimeTick] = [] # create new instance of instance data class\n",
    "            intervalKeys.append(worldTimeTick)\n",
    "\n",
    "        interval = intervalQueue[worldTimeTick]\n",
    "        interval.append(row)"
   ]
  },
  {
   "cell_type": "markdown",
   "metadata": {},
   "source": [
    "The following code creates a CSV file, where the changed chunks to every tick can be seen."
   ]
  },
  {
   "cell_type": "code",
   "execution_count": 7,
   "metadata": {},
   "outputs": [],
   "source": [
    "df = pd.DataFrame(columns=[\"tick\", \"chunks\"])\n",
    "df.set_index('tick', inplace=True)\n",
    "\n",
    "intervalKeys = sorted(intervalKeys)\n",
    "for key in intervalKeys:\n",
    "    \n",
    "    chunks = set()\n",
    "    for row in intervalQueue[key]:\n",
    "        chunks.add(row[7])\n",
    "        \n",
    "    #print(';'.join(list(chunks)))\n",
    "    df.loc[key] = [';'.join(list(chunks))]\n",
    "\n",
    "df.to_csv(outputfilename, sep='\\t')"
   ]
  }
 ],
 "metadata": {
  "kernelspec": {
   "display_name": "Python 3",
   "language": "python",
   "name": "python3"
  },
  "language_info": {
   "codemirror_mode": {
    "name": "ipython",
    "version": 2
   },
   "file_extension": ".py",
   "mimetype": "text/x-python",
   "name": "python",
   "nbconvert_exporter": "python",
   "pygments_lexer": "ipython2",
   "version": "2.7.17"
  }
 },
 "nbformat": 4,
 "nbformat_minor": 2
}
